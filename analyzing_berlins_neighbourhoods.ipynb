{
 "cells": [
  {
   "cell_type": "markdown",
   "metadata": {},
   "source": [
    "# Analyzing Berlin's Neighbourhoods using Airbnb Data\n",
    "\n",
    "The intent of this notebook is to analyze the locality of hosts (i.e. host lives in the same neighbourhood as the listing object) on prices and room types of the listings.\n",
    "\n",
    "### Questions answered in the following:\n",
    "- what is the average price of listings per neighbourhood?\n",
    "- do local hosts charge more for their object than average?\n",
    "- can we succesfully increase the number of matched hosts?\n",
    "- do local hosts offer more private rooms than other hosts?\n",
    "- do private rooms tend to be cheaper?"
   ]
  },
  {
   "cell_type": "code",
   "execution_count": 1,
   "metadata": {},
   "outputs": [],
   "source": [
    "# import neccessary packages\n",
    "import pandas as pd\n",
    "import numpy as np\n",
    "import matplotlib.pyplot as plt\n",
    "import seaborn as sns"
   ]
  },
  {
   "cell_type": "markdown",
   "metadata": {},
   "source": [
    "# Data Gathering & Assessment"
   ]
  },
  {
   "cell_type": "code",
   "execution_count": 2,
   "metadata": {},
   "outputs": [],
   "source": [
    "listings = pd.read_csv('listings.csv.gz')"
   ]
  },
  {
   "cell_type": "code",
   "execution_count": 3,
   "metadata": {},
   "outputs": [
    {
     "data": {
      "text/html": [
       "<div>\n",
       "<style scoped>\n",
       "    .dataframe tbody tr th:only-of-type {\n",
       "        vertical-align: middle;\n",
       "    }\n",
       "\n",
       "    .dataframe tbody tr th {\n",
       "        vertical-align: top;\n",
       "    }\n",
       "\n",
       "    .dataframe thead th {\n",
       "        text-align: right;\n",
       "    }\n",
       "</style>\n",
       "<table border=\"1\" class=\"dataframe\">\n",
       "  <thead>\n",
       "    <tr style=\"text-align: right;\">\n",
       "      <th></th>\n",
       "      <th>id</th>\n",
       "      <th>scrape_id</th>\n",
       "      <th>host_id</th>\n",
       "      <th>host_listings_count</th>\n",
       "      <th>host_total_listings_count</th>\n",
       "      <th>latitude</th>\n",
       "      <th>longitude</th>\n",
       "      <th>accommodates</th>\n",
       "      <th>bathrooms</th>\n",
       "      <th>bedrooms</th>\n",
       "      <th>...</th>\n",
       "      <th>review_scores_cleanliness</th>\n",
       "      <th>review_scores_checkin</th>\n",
       "      <th>review_scores_communication</th>\n",
       "      <th>review_scores_location</th>\n",
       "      <th>review_scores_value</th>\n",
       "      <th>calculated_host_listings_count</th>\n",
       "      <th>calculated_host_listings_count_entire_homes</th>\n",
       "      <th>calculated_host_listings_count_private_rooms</th>\n",
       "      <th>calculated_host_listings_count_shared_rooms</th>\n",
       "      <th>reviews_per_month</th>\n",
       "    </tr>\n",
       "  </thead>\n",
       "  <tbody>\n",
       "    <tr>\n",
       "      <th>count</th>\n",
       "      <td>2.043200e+04</td>\n",
       "      <td>2.043200e+04</td>\n",
       "      <td>2.043200e+04</td>\n",
       "      <td>20420.000000</td>\n",
       "      <td>20420.000000</td>\n",
       "      <td>20432.000000</td>\n",
       "      <td>20432.000000</td>\n",
       "      <td>20432.000000</td>\n",
       "      <td>0.0</td>\n",
       "      <td>18742.000000</td>\n",
       "      <td>...</td>\n",
       "      <td>16134.000000</td>\n",
       "      <td>16120.000000</td>\n",
       "      <td>16131.000000</td>\n",
       "      <td>16122.000000</td>\n",
       "      <td>16119.000000</td>\n",
       "      <td>20432.000000</td>\n",
       "      <td>20432.000000</td>\n",
       "      <td>20432.000000</td>\n",
       "      <td>20432.000000</td>\n",
       "      <td>16574.000000</td>\n",
       "    </tr>\n",
       "    <tr>\n",
       "      <th>mean</th>\n",
       "      <td>2.332114e+07</td>\n",
       "      <td>2.020083e+13</td>\n",
       "      <td>8.370147e+07</td>\n",
       "      <td>3.518805</td>\n",
       "      <td>3.518805</td>\n",
       "      <td>52.510082</td>\n",
       "      <td>13.405073</td>\n",
       "      <td>2.737177</td>\n",
       "      <td>NaN</td>\n",
       "      <td>1.266407</td>\n",
       "      <td>...</td>\n",
       "      <td>9.342878</td>\n",
       "      <td>9.742060</td>\n",
       "      <td>9.745459</td>\n",
       "      <td>9.613696</td>\n",
       "      <td>9.406849</td>\n",
       "      <td>2.778387</td>\n",
       "      <td>1.800607</td>\n",
       "      <td>0.708741</td>\n",
       "      <td>0.165916</td>\n",
       "      <td>0.872933</td>\n",
       "    </tr>\n",
       "    <tr>\n",
       "      <th>std</th>\n",
       "      <td>1.360409e+07</td>\n",
       "      <td>8.675994e+00</td>\n",
       "      <td>9.624043e+07</td>\n",
       "      <td>25.117581</td>\n",
       "      <td>25.117581</td>\n",
       "      <td>0.032100</td>\n",
       "      <td>0.062328</td>\n",
       "      <td>1.626837</td>\n",
       "      <td>NaN</td>\n",
       "      <td>0.621753</td>\n",
       "      <td>...</td>\n",
       "      <td>1.016055</td>\n",
       "      <td>0.683007</td>\n",
       "      <td>0.684740</td>\n",
       "      <td>0.729116</td>\n",
       "      <td>0.850242</td>\n",
       "      <td>6.329044</td>\n",
       "      <td>5.655676</td>\n",
       "      <td>1.294403</td>\n",
       "      <td>2.157332</td>\n",
       "      <td>1.259858</td>\n",
       "    </tr>\n",
       "    <tr>\n",
       "      <th>min</th>\n",
       "      <td>1.944000e+03</td>\n",
       "      <td>2.020083e+13</td>\n",
       "      <td>1.581000e+03</td>\n",
       "      <td>0.000000</td>\n",
       "      <td>0.000000</td>\n",
       "      <td>52.340480</td>\n",
       "      <td>13.097180</td>\n",
       "      <td>0.000000</td>\n",
       "      <td>NaN</td>\n",
       "      <td>1.000000</td>\n",
       "      <td>...</td>\n",
       "      <td>2.000000</td>\n",
       "      <td>2.000000</td>\n",
       "      <td>2.000000</td>\n",
       "      <td>2.000000</td>\n",
       "      <td>2.000000</td>\n",
       "      <td>1.000000</td>\n",
       "      <td>0.000000</td>\n",
       "      <td>0.000000</td>\n",
       "      <td>0.000000</td>\n",
       "      <td>0.010000</td>\n",
       "    </tr>\n",
       "    <tr>\n",
       "      <th>25%</th>\n",
       "      <td>1.162008e+07</td>\n",
       "      <td>2.020083e+13</td>\n",
       "      <td>1.054162e+07</td>\n",
       "      <td>1.000000</td>\n",
       "      <td>1.000000</td>\n",
       "      <td>52.489620</td>\n",
       "      <td>13.368640</td>\n",
       "      <td>2.000000</td>\n",
       "      <td>NaN</td>\n",
       "      <td>1.000000</td>\n",
       "      <td>...</td>\n",
       "      <td>9.000000</td>\n",
       "      <td>10.000000</td>\n",
       "      <td>10.000000</td>\n",
       "      <td>9.000000</td>\n",
       "      <td>9.000000</td>\n",
       "      <td>1.000000</td>\n",
       "      <td>0.000000</td>\n",
       "      <td>0.000000</td>\n",
       "      <td>0.000000</td>\n",
       "      <td>0.120000</td>\n",
       "    </tr>\n",
       "    <tr>\n",
       "      <th>50%</th>\n",
       "      <td>2.237021e+07</td>\n",
       "      <td>2.020083e+13</td>\n",
       "      <td>4.094528e+07</td>\n",
       "      <td>1.000000</td>\n",
       "      <td>1.000000</td>\n",
       "      <td>52.510100</td>\n",
       "      <td>13.414710</td>\n",
       "      <td>2.000000</td>\n",
       "      <td>NaN</td>\n",
       "      <td>1.000000</td>\n",
       "      <td>...</td>\n",
       "      <td>10.000000</td>\n",
       "      <td>10.000000</td>\n",
       "      <td>10.000000</td>\n",
       "      <td>10.000000</td>\n",
       "      <td>10.000000</td>\n",
       "      <td>1.000000</td>\n",
       "      <td>1.000000</td>\n",
       "      <td>0.000000</td>\n",
       "      <td>0.000000</td>\n",
       "      <td>0.370000</td>\n",
       "    </tr>\n",
       "    <tr>\n",
       "      <th>75%</th>\n",
       "      <td>3.595554e+07</td>\n",
       "      <td>2.020083e+13</td>\n",
       "      <td>1.276706e+08</td>\n",
       "      <td>2.000000</td>\n",
       "      <td>2.000000</td>\n",
       "      <td>52.532960</td>\n",
       "      <td>13.439213</td>\n",
       "      <td>3.000000</td>\n",
       "      <td>NaN</td>\n",
       "      <td>1.000000</td>\n",
       "      <td>...</td>\n",
       "      <td>10.000000</td>\n",
       "      <td>10.000000</td>\n",
       "      <td>10.000000</td>\n",
       "      <td>10.000000</td>\n",
       "      <td>10.000000</td>\n",
       "      <td>2.000000</td>\n",
       "      <td>1.000000</td>\n",
       "      <td>1.000000</td>\n",
       "      <td>0.000000</td>\n",
       "      <td>1.050000</td>\n",
       "    </tr>\n",
       "    <tr>\n",
       "      <th>max</th>\n",
       "      <td>4.519743e+07</td>\n",
       "      <td>2.020083e+13</td>\n",
       "      <td>3.648624e+08</td>\n",
       "      <td>1152.000000</td>\n",
       "      <td>1152.000000</td>\n",
       "      <td>52.656630</td>\n",
       "      <td>13.758420</td>\n",
       "      <td>16.000000</td>\n",
       "      <td>NaN</td>\n",
       "      <td>12.000000</td>\n",
       "      <td>...</td>\n",
       "      <td>10.000000</td>\n",
       "      <td>10.000000</td>\n",
       "      <td>10.000000</td>\n",
       "      <td>10.000000</td>\n",
       "      <td>10.000000</td>\n",
       "      <td>65.000000</td>\n",
       "      <td>65.000000</td>\n",
       "      <td>14.000000</td>\n",
       "      <td>38.000000</td>\n",
       "      <td>30.740000</td>\n",
       "    </tr>\n",
       "  </tbody>\n",
       "</table>\n",
       "<p>8 rows × 39 columns</p>\n",
       "</div>"
      ],
      "text/plain": [
       "                 id     scrape_id       host_id  host_listings_count  \\\n",
       "count  2.043200e+04  2.043200e+04  2.043200e+04         20420.000000   \n",
       "mean   2.332114e+07  2.020083e+13  8.370147e+07             3.518805   \n",
       "std    1.360409e+07  8.675994e+00  9.624043e+07            25.117581   \n",
       "min    1.944000e+03  2.020083e+13  1.581000e+03             0.000000   \n",
       "25%    1.162008e+07  2.020083e+13  1.054162e+07             1.000000   \n",
       "50%    2.237021e+07  2.020083e+13  4.094528e+07             1.000000   \n",
       "75%    3.595554e+07  2.020083e+13  1.276706e+08             2.000000   \n",
       "max    4.519743e+07  2.020083e+13  3.648624e+08          1152.000000   \n",
       "\n",
       "       host_total_listings_count      latitude     longitude  accommodates  \\\n",
       "count               20420.000000  20432.000000  20432.000000  20432.000000   \n",
       "mean                    3.518805     52.510082     13.405073      2.737177   \n",
       "std                    25.117581      0.032100      0.062328      1.626837   \n",
       "min                     0.000000     52.340480     13.097180      0.000000   \n",
       "25%                     1.000000     52.489620     13.368640      2.000000   \n",
       "50%                     1.000000     52.510100     13.414710      2.000000   \n",
       "75%                     2.000000     52.532960     13.439213      3.000000   \n",
       "max                  1152.000000     52.656630     13.758420     16.000000   \n",
       "\n",
       "       bathrooms      bedrooms        ...          review_scores_cleanliness  \\\n",
       "count        0.0  18742.000000        ...                       16134.000000   \n",
       "mean         NaN      1.266407        ...                           9.342878   \n",
       "std          NaN      0.621753        ...                           1.016055   \n",
       "min          NaN      1.000000        ...                           2.000000   \n",
       "25%          NaN      1.000000        ...                           9.000000   \n",
       "50%          NaN      1.000000        ...                          10.000000   \n",
       "75%          NaN      1.000000        ...                          10.000000   \n",
       "max          NaN     12.000000        ...                          10.000000   \n",
       "\n",
       "       review_scores_checkin  review_scores_communication  \\\n",
       "count           16120.000000                 16131.000000   \n",
       "mean                9.742060                     9.745459   \n",
       "std                 0.683007                     0.684740   \n",
       "min                 2.000000                     2.000000   \n",
       "25%                10.000000                    10.000000   \n",
       "50%                10.000000                    10.000000   \n",
       "75%                10.000000                    10.000000   \n",
       "max                10.000000                    10.000000   \n",
       "\n",
       "       review_scores_location  review_scores_value  \\\n",
       "count            16122.000000         16119.000000   \n",
       "mean                 9.613696             9.406849   \n",
       "std                  0.729116             0.850242   \n",
       "min                  2.000000             2.000000   \n",
       "25%                  9.000000             9.000000   \n",
       "50%                 10.000000            10.000000   \n",
       "75%                 10.000000            10.000000   \n",
       "max                 10.000000            10.000000   \n",
       "\n",
       "       calculated_host_listings_count  \\\n",
       "count                    20432.000000   \n",
       "mean                         2.778387   \n",
       "std                          6.329044   \n",
       "min                          1.000000   \n",
       "25%                          1.000000   \n",
       "50%                          1.000000   \n",
       "75%                          2.000000   \n",
       "max                         65.000000   \n",
       "\n",
       "       calculated_host_listings_count_entire_homes  \\\n",
       "count                                 20432.000000   \n",
       "mean                                      1.800607   \n",
       "std                                       5.655676   \n",
       "min                                       0.000000   \n",
       "25%                                       0.000000   \n",
       "50%                                       1.000000   \n",
       "75%                                       1.000000   \n",
       "max                                      65.000000   \n",
       "\n",
       "       calculated_host_listings_count_private_rooms  \\\n",
       "count                                  20432.000000   \n",
       "mean                                       0.708741   \n",
       "std                                        1.294403   \n",
       "min                                        0.000000   \n",
       "25%                                        0.000000   \n",
       "50%                                        0.000000   \n",
       "75%                                        1.000000   \n",
       "max                                       14.000000   \n",
       "\n",
       "       calculated_host_listings_count_shared_rooms  reviews_per_month  \n",
       "count                                 20432.000000       16574.000000  \n",
       "mean                                      0.165916           0.872933  \n",
       "std                                       2.157332           1.259858  \n",
       "min                                       0.000000           0.010000  \n",
       "25%                                       0.000000           0.120000  \n",
       "50%                                       0.000000           0.370000  \n",
       "75%                                       0.000000           1.050000  \n",
       "max                                      38.000000          30.740000  \n",
       "\n",
       "[8 rows x 39 columns]"
      ]
     },
     "execution_count": 3,
     "metadata": {},
     "output_type": "execute_result"
    }
   ],
   "source": [
    "listings.describe()"
   ]
  },
  {
   "cell_type": "code",
   "execution_count": 4,
   "metadata": {
    "scrolled": true
   },
   "outputs": [
    {
     "data": {
      "text/html": [
       "<div>\n",
       "<style scoped>\n",
       "    .dataframe tbody tr th:only-of-type {\n",
       "        vertical-align: middle;\n",
       "    }\n",
       "\n",
       "    .dataframe tbody tr th {\n",
       "        vertical-align: top;\n",
       "    }\n",
       "\n",
       "    .dataframe thead th {\n",
       "        text-align: right;\n",
       "    }\n",
       "</style>\n",
       "<table border=\"1\" class=\"dataframe\">\n",
       "  <thead>\n",
       "    <tr style=\"text-align: right;\">\n",
       "      <th></th>\n",
       "      <th>id</th>\n",
       "      <th>listing_url</th>\n",
       "      <th>scrape_id</th>\n",
       "      <th>last_scraped</th>\n",
       "      <th>name</th>\n",
       "      <th>description</th>\n",
       "      <th>neighborhood_overview</th>\n",
       "      <th>picture_url</th>\n",
       "      <th>host_id</th>\n",
       "      <th>host_url</th>\n",
       "      <th>...</th>\n",
       "      <th>review_scores_communication</th>\n",
       "      <th>review_scores_location</th>\n",
       "      <th>review_scores_value</th>\n",
       "      <th>license</th>\n",
       "      <th>instant_bookable</th>\n",
       "      <th>calculated_host_listings_count</th>\n",
       "      <th>calculated_host_listings_count_entire_homes</th>\n",
       "      <th>calculated_host_listings_count_private_rooms</th>\n",
       "      <th>calculated_host_listings_count_shared_rooms</th>\n",
       "      <th>reviews_per_month</th>\n",
       "    </tr>\n",
       "  </thead>\n",
       "  <tbody>\n",
       "    <tr>\n",
       "      <th>0</th>\n",
       "      <td>1944</td>\n",
       "      <td>https://www.airbnb.com/rooms/1944</td>\n",
       "      <td>20200830153825</td>\n",
       "      <td>2020-08-31</td>\n",
       "      <td>cafeheaven Pberg/Mitte</td>\n",
       "      <td>Private, bright and friendly room. You'd be sh...</td>\n",
       "      <td>near all the trendy cafés and flea markets and...</td>\n",
       "      <td>https://a0.muscache.com/pictures/107924758/1f4...</td>\n",
       "      <td>2164</td>\n",
       "      <td>https://www.airbnb.com/users/show/2164</td>\n",
       "      <td>...</td>\n",
       "      <td>9.0</td>\n",
       "      <td>9.0</td>\n",
       "      <td>8.0</td>\n",
       "      <td>NaN</td>\n",
       "      <td>f</td>\n",
       "      <td>2</td>\n",
       "      <td>0</td>\n",
       "      <td>2</td>\n",
       "      <td>0</td>\n",
       "      <td>0.21</td>\n",
       "    </tr>\n",
       "    <tr>\n",
       "      <th>1</th>\n",
       "      <td>3176</td>\n",
       "      <td>https://www.airbnb.com/rooms/3176</td>\n",
       "      <td>20200830153825</td>\n",
       "      <td>2020-08-31</td>\n",
       "      <td>Fabulous Flat in great Location</td>\n",
       "      <td>This beautiful first floor apartment  is situa...</td>\n",
       "      <td>The neighbourhood is famous for its variety of...</td>\n",
       "      <td>https://a0.muscache.com/pictures/243355/84afcf...</td>\n",
       "      <td>3718</td>\n",
       "      <td>https://www.airbnb.com/users/show/3718</td>\n",
       "      <td>...</td>\n",
       "      <td>9.0</td>\n",
       "      <td>10.0</td>\n",
       "      <td>9.0</td>\n",
       "      <td>NaN</td>\n",
       "      <td>f</td>\n",
       "      <td>1</td>\n",
       "      <td>1</td>\n",
       "      <td>0</td>\n",
       "      <td>0</td>\n",
       "      <td>1.07</td>\n",
       "    </tr>\n",
       "    <tr>\n",
       "      <th>2</th>\n",
       "      <td>3309</td>\n",
       "      <td>https://www.airbnb.com/rooms/3309</td>\n",
       "      <td>20200830153825</td>\n",
       "      <td>2020-09-01</td>\n",
       "      <td>BerlinSpot Schöneberg near KaDeWe</td>\n",
       "      <td>First of all:&lt;br /&gt;I prefer short-notice booki...</td>\n",
       "      <td>My flat is in the middle of West-Berlin, direc...</td>\n",
       "      <td>https://a0.muscache.com/pictures/29054294/b1fa...</td>\n",
       "      <td>4108</td>\n",
       "      <td>https://www.airbnb.com/users/show/4108</td>\n",
       "      <td>...</td>\n",
       "      <td>10.0</td>\n",
       "      <td>9.0</td>\n",
       "      <td>9.0</td>\n",
       "      <td>NaN</td>\n",
       "      <td>f</td>\n",
       "      <td>1</td>\n",
       "      <td>0</td>\n",
       "      <td>1</td>\n",
       "      <td>0</td>\n",
       "      <td>0.31</td>\n",
       "    </tr>\n",
       "    <tr>\n",
       "      <th>3</th>\n",
       "      <td>7071</td>\n",
       "      <td>https://www.airbnb.com/rooms/7071</td>\n",
       "      <td>20200830153825</td>\n",
       "      <td>2020-08-31</td>\n",
       "      <td>BrightRoom with sunny greenview!</td>\n",
       "      <td>Cozy and large room in the beautiful district ...</td>\n",
       "      <td>Great neighborhood with plenty of Cafés, Baker...</td>\n",
       "      <td>https://a0.muscache.com/pictures/21278/32a1622...</td>\n",
       "      <td>17391</td>\n",
       "      <td>https://www.airbnb.com/users/show/17391</td>\n",
       "      <td>...</td>\n",
       "      <td>10.0</td>\n",
       "      <td>10.0</td>\n",
       "      <td>9.0</td>\n",
       "      <td>NaN</td>\n",
       "      <td>t</td>\n",
       "      <td>1</td>\n",
       "      <td>0</td>\n",
       "      <td>1</td>\n",
       "      <td>0</td>\n",
       "      <td>2.18</td>\n",
       "    </tr>\n",
       "    <tr>\n",
       "      <th>4</th>\n",
       "      <td>9991</td>\n",
       "      <td>https://www.airbnb.com/rooms/9991</td>\n",
       "      <td>20200830153825</td>\n",
       "      <td>2020-08-31</td>\n",
       "      <td>Geourgeous flat - outstanding views</td>\n",
       "      <td>4 bedroom with very large windows and outstand...</td>\n",
       "      <td>Prenzlauer Berg is an amazing neighbourhood wh...</td>\n",
       "      <td>https://a0.muscache.com/pictures/42799131/59c8...</td>\n",
       "      <td>33852</td>\n",
       "      <td>https://www.airbnb.com/users/show/33852</td>\n",
       "      <td>...</td>\n",
       "      <td>10.0</td>\n",
       "      <td>10.0</td>\n",
       "      <td>10.0</td>\n",
       "      <td>03/Z/RA/003410-18</td>\n",
       "      <td>f</td>\n",
       "      <td>1</td>\n",
       "      <td>1</td>\n",
       "      <td>0</td>\n",
       "      <td>0</td>\n",
       "      <td>0.13</td>\n",
       "    </tr>\n",
       "  </tbody>\n",
       "</table>\n",
       "<p>5 rows × 74 columns</p>\n",
       "</div>"
      ],
      "text/plain": [
       "     id                        listing_url       scrape_id last_scraped  \\\n",
       "0  1944  https://www.airbnb.com/rooms/1944  20200830153825   2020-08-31   \n",
       "1  3176  https://www.airbnb.com/rooms/3176  20200830153825   2020-08-31   \n",
       "2  3309  https://www.airbnb.com/rooms/3309  20200830153825   2020-09-01   \n",
       "3  7071  https://www.airbnb.com/rooms/7071  20200830153825   2020-08-31   \n",
       "4  9991  https://www.airbnb.com/rooms/9991  20200830153825   2020-08-31   \n",
       "\n",
       "                                  name  \\\n",
       "0               cafeheaven Pberg/Mitte   \n",
       "1      Fabulous Flat in great Location   \n",
       "2    BerlinSpot Schöneberg near KaDeWe   \n",
       "3     BrightRoom with sunny greenview!   \n",
       "4  Geourgeous flat - outstanding views   \n",
       "\n",
       "                                         description  \\\n",
       "0  Private, bright and friendly room. You'd be sh...   \n",
       "1  This beautiful first floor apartment  is situa...   \n",
       "2  First of all:<br />I prefer short-notice booki...   \n",
       "3  Cozy and large room in the beautiful district ...   \n",
       "4  4 bedroom with very large windows and outstand...   \n",
       "\n",
       "                               neighborhood_overview  \\\n",
       "0  near all the trendy cafés and flea markets and...   \n",
       "1  The neighbourhood is famous for its variety of...   \n",
       "2  My flat is in the middle of West-Berlin, direc...   \n",
       "3  Great neighborhood with plenty of Cafés, Baker...   \n",
       "4  Prenzlauer Berg is an amazing neighbourhood wh...   \n",
       "\n",
       "                                         picture_url  host_id  \\\n",
       "0  https://a0.muscache.com/pictures/107924758/1f4...     2164   \n",
       "1  https://a0.muscache.com/pictures/243355/84afcf...     3718   \n",
       "2  https://a0.muscache.com/pictures/29054294/b1fa...     4108   \n",
       "3  https://a0.muscache.com/pictures/21278/32a1622...    17391   \n",
       "4  https://a0.muscache.com/pictures/42799131/59c8...    33852   \n",
       "\n",
       "                                  host_url        ...         \\\n",
       "0   https://www.airbnb.com/users/show/2164        ...          \n",
       "1   https://www.airbnb.com/users/show/3718        ...          \n",
       "2   https://www.airbnb.com/users/show/4108        ...          \n",
       "3  https://www.airbnb.com/users/show/17391        ...          \n",
       "4  https://www.airbnb.com/users/show/33852        ...          \n",
       "\n",
       "  review_scores_communication review_scores_location review_scores_value  \\\n",
       "0                         9.0                    9.0                 8.0   \n",
       "1                         9.0                   10.0                 9.0   \n",
       "2                        10.0                    9.0                 9.0   \n",
       "3                        10.0                   10.0                 9.0   \n",
       "4                        10.0                   10.0                10.0   \n",
       "\n",
       "             license instant_bookable calculated_host_listings_count  \\\n",
       "0                NaN                f                              2   \n",
       "1                NaN                f                              1   \n",
       "2                NaN                f                              1   \n",
       "3                NaN                t                              1   \n",
       "4  03/Z/RA/003410-18                f                              1   \n",
       "\n",
       "  calculated_host_listings_count_entire_homes  \\\n",
       "0                                           0   \n",
       "1                                           1   \n",
       "2                                           0   \n",
       "3                                           0   \n",
       "4                                           1   \n",
       "\n",
       "  calculated_host_listings_count_private_rooms  \\\n",
       "0                                            2   \n",
       "1                                            0   \n",
       "2                                            1   \n",
       "3                                            1   \n",
       "4                                            0   \n",
       "\n",
       "  calculated_host_listings_count_shared_rooms reviews_per_month  \n",
       "0                                           0              0.21  \n",
       "1                                           0              1.07  \n",
       "2                                           0              0.31  \n",
       "3                                           0              2.18  \n",
       "4                                           0              0.13  \n",
       "\n",
       "[5 rows x 74 columns]"
      ]
     },
     "execution_count": 4,
     "metadata": {},
     "output_type": "execute_result"
    }
   ],
   "source": [
    "listings.head()"
   ]
  },
  {
   "cell_type": "markdown",
   "metadata": {},
   "source": [
    "# Data Preparation"
   ]
  },
  {
   "cell_type": "code",
   "execution_count": 5,
   "metadata": {},
   "outputs": [],
   "source": [
    "# remove all columns that are not used within the analysis\n",
    "all_columns = ['price', 'room_type', 'neighbourhood_group_cleansed', 'host_neighbourhood']\n",
    "listings = listings[all_columns]"
   ]
  },
  {
   "cell_type": "code",
   "execution_count": 6,
   "metadata": {},
   "outputs": [],
   "source": [
    "# caculate numeric prices\n",
    "listings['price_dollar'] = listings['price']\n",
    "listings['price'] = listings.price_dollar.str.strip('$').str.replace(',', '').astype('float')"
   ]
  },
  {
   "cell_type": "code",
   "execution_count": 7,
   "metadata": {},
   "outputs": [],
   "source": [
    "# hot-enconde whether a listing is a private room or an entire home/apt\n",
    "listings['private_room'] = 0\n",
    "listings.loc[listings.room_type == 'Private room', 'private_room'] = 1\n",
    "listings['entire_home'] = 0\n",
    "listings.loc[listings.room_type == 'Entire home/apt', 'entire_home'] = 1"
   ]
  },
  {
   "cell_type": "code",
   "execution_count": 8,
   "metadata": {},
   "outputs": [],
   "source": [
    "# do any columns require cleaning?\n",
    "# how can we find this out?"
   ]
  },
  {
   "cell_type": "code",
   "execution_count": 9,
   "metadata": {
    "scrolled": true
   },
   "outputs": [
    {
     "data": {
      "text/plain": [
       "price                              0\n",
       "room_type                          0\n",
       "neighbourhood_group_cleansed       0\n",
       "host_neighbourhood              5532\n",
       "price_dollar                       0\n",
       "private_room                       0\n",
       "entire_home                        0\n",
       "dtype: int64"
      ]
     },
     "execution_count": 9,
     "metadata": {},
     "output_type": "execute_result"
    }
   ],
   "source": [
    "listings.isna().sum()"
   ]
  },
  {
   "cell_type": "markdown",
   "metadata": {},
   "source": [
    "host_neighbourhood is the only column with missing values"
   ]
  },
  {
   "cell_type": "code",
   "execution_count": 10,
   "metadata": {},
   "outputs": [],
   "source": [
    "# replace NaNs with the the location name 'unknown'\n",
    "# this is done because we do not want to lose those rows while we want to indicate that the information is not know to us\n",
    "listings.host_neighbourhood.fillna('unknown', inplace=True)"
   ]
  },
  {
   "cell_type": "code",
   "execution_count": 11,
   "metadata": {
    "scrolled": true
   },
   "outputs": [
    {
     "data": {
      "text/plain": [
       "<matplotlib.axes._subplots.AxesSubplot at 0x29b091aafd0>"
      ]
     },
     "execution_count": 11,
     "metadata": {},
     "output_type": "execute_result"
    },
    {
     "data": {
      "image/png": "[encoded data removed]",
      "text/plain": [
       "<Figure size 432x288 with 1 Axes>"
      ]
     },
     "metadata": {},
     "output_type": "display_data"
    }
   ],
   "source": [
    "sns.boxplot(x=listings['price'])"
   ]
  },
  {
   "cell_type": "code",
   "execution_count": 12,
   "metadata": {},
   "outputs": [],
   "source": [
    "price_cap = listings.price.quantile(0.995)"
   ]
  },
  {
   "cell_type": "code",
   "execution_count": 13,
   "metadata": {},
   "outputs": [],
   "source": [
    "# I decided to remove everything above 1000$ because this is extremly unlikely and looking at the boxplot also extremly rare.\n",
    "# Additionately I decided to cap the remaining values to the 99.5% quantile because it skrews the data needlessly\n",
    "listings = listings[listings.price <= 1000]\n",
    "price_cap_mask = listings.price > price_cap\n",
    "listings.loc[price_cap_mask, 'price'] = price_cap"
   ]
  },
  {
   "cell_type": "code",
   "execution_count": 14,
   "metadata": {},
   "outputs": [
    {
     "data": {
      "text/plain": [
       "<matplotlib.axes._subplots.AxesSubplot at 0x29b0972e470>"
      ]
     },
     "execution_count": 14,
     "metadata": {},
     "output_type": "execute_result"
    },
    {
     "data": {
      "image/png": "[encoded data removed]",
      "text/plain": [
       "<Figure size 432x288 with 1 Axes>"
      ]
     },
     "metadata": {},
     "output_type": "display_data"
    }
   ],
   "source": [
    "sns.boxplot(x=listings['price'])"
   ]
  },
  {
   "cell_type": "markdown",
   "metadata": {},
   "source": [
    "# Analyzing and Visualizing Business Questions"
   ]
  },
  {
   "cell_type": "markdown",
   "metadata": {},
   "source": [
    "### Analyzing the Price of Neighbourhoods"
   ]
  },
  {
   "cell_type": "code",
   "execution_count": 15,
   "metadata": {
    "scrolled": true
   },
   "outputs": [
    {
     "data": {
      "text/plain": [
       "Friedrichshain-Kreuzberg    4588\n",
       "Mitte                       4437\n",
       "Pankow                      3182\n",
       "Neukölln                    2832\n",
       "Charlottenburg-Wilm.        1676\n",
       "Tempelhof - Schöneberg      1380\n",
       "Lichtenberg                  657\n",
       "Treptow - Köpenick           649\n",
       "Steglitz - Zehlendorf        438\n",
       "Reinickendorf                294\n",
       "Marzahn - Hellersdorf        144\n",
       "Spandau                      142\n",
       "Name: neighbourhood_group_cleansed, dtype: int64"
      ]
     },
     "execution_count": 15,
     "metadata": {},
     "output_type": "execute_result"
    }
   ],
   "source": [
    "# counting the number of lustings per neighbourhood\n",
    "listings.neighbourhood_group_cleansed.value_counts()"
   ]
  },
  {
   "cell_type": "code",
   "execution_count": 16,
   "metadata": {
    "scrolled": true
   },
   "outputs": [
    {
     "data": {
      "text/plain": [
       "neighbourhood_group_cleansed\n",
       "Mitte                       74.300847\n",
       "Marzahn - Hellersdorf       73.449722\n",
       "Spandau                     73.352113\n",
       "Charlottenburg-Wilm.        72.771199\n",
       "Pankow                      71.279739\n",
       "Treptow - Köpenick          68.489476\n",
       "Steglitz - Zehlendorf       64.172237\n",
       "Tempelhof - Schöneberg      63.899971\n",
       "Friedrichshain-Kreuzberg    63.106295\n",
       "Lichtenberg                 53.027184\n",
       "Neukölln                    52.085593\n",
       "Reinickendorf               49.176224\n",
       "Name: price, dtype: float64"
      ]
     },
     "execution_count": 16,
     "metadata": {},
     "output_type": "execute_result"
    }
   ],
   "source": [
    "# calculating the average price per neighbourhood\n",
    "all_prices = listings.groupby('neighbourhood_group_cleansed').price.mean().sort_values(ascending=False)\n",
    "all_prices"
   ]
  },
  {
   "cell_type": "code",
   "execution_count": 17,
   "metadata": {},
   "outputs": [
    {
     "data": {
      "image/png": "[encoded data removed]",
      "text/plain": [
       "<Figure size 432x288 with 1 Axes>"
      ]
     },
     "metadata": {},
     "output_type": "display_data"
    }
   ],
   "source": [
    "all_prices.plot.bar();"
   ]
  },
  {
   "cell_type": "markdown",
   "metadata": {},
   "source": [
    "### Do local hosts value their neighbourhood higher than average?"
   ]
  },
  {
   "cell_type": "code",
   "execution_count": 18,
   "metadata": {
    "scrolled": false
   },
   "outputs": [
    {
     "name": "stdout",
     "output_type": "stream",
     "text": [
      "total number of listings in the dataset:  20419\n",
      "number of listings where the host is local:  3762\n",
      "percentage of listings where the host is local:  0.18424016847054214\n"
     ]
    }
   ],
   "source": [
    "# analyzing how many of the hosts we were able to tag as local\n",
    "total_listings = listings.shape[0]\n",
    "local_host_mask = listings.host_neighbourhood == listings.neighbourhood_group_cleansed\n",
    "local_host_listings = local_host_mask.sum()\n",
    "print('total number of listings in the dataset: ', total_listings)\n",
    "print('number of listings where the host is local: ', local_host_listings)\n",
    "print('percentage of listings where the host is local: ', local_host_listings/total_listings)"
   ]
  },
  {
   "cell_type": "code",
   "execution_count": 19,
   "metadata": {
    "scrolled": true
   },
   "outputs": [
    {
     "data": {
      "text/plain": [
       "neighbourhood_group_cleansed\n",
       "Mitte            92.376361\n",
       "Pankow           59.656552\n",
       "Neukölln         52.218643\n",
       "Lichtenberg      48.365941\n",
       "Reinickendorf    44.568586\n",
       "Spandau          34.555556\n",
       "Name: price, dtype: float64"
      ]
     },
     "execution_count": 19,
     "metadata": {},
     "output_type": "execute_result"
    }
   ],
   "source": [
    "# calculate average price of listings with local host\n",
    "local_prices = listings[local_host_mask].groupby('neighbourhood_group_cleansed').price.mean().sort_values(ascending=False)\n",
    "local_prices"
   ]
  },
  {
   "cell_type": "code",
   "execution_count": 20,
   "metadata": {},
   "outputs": [],
   "source": [
    "def visualize_local_impact(total_values, local_values):\n",
    "    \"\"\"\n",
    "    Visualize a comparison between total values and hosts values for given series.\n",
    "    \n",
    "    INPUT:\n",
    "    total_values - Series containing the information of the averages for all listings.\n",
    "    local_values - Series containing the information of the averages only for listings with local hosts.\n",
    "    \n",
    "    \"\"\"\n",
    "    X=local_values.index\n",
    "    df = pd.DataFrame(np.c_[local_values, total_values[X]], index=X)\n",
    "    plt.figure();\n",
    "    ax = df.plot.bar();\n",
    "    ax.set_ylabel(local_values.name);\n",
    "    ax.legend(['local hosts', 'all hosts']);"
   ]
  },
  {
   "cell_type": "code",
   "execution_count": 21,
   "metadata": {
    "scrolled": false
   },
   "outputs": [
    {
     "data": {
      "text/plain": [
       "<Figure size 432x288 with 0 Axes>"
      ]
     },
     "metadata": {},
     "output_type": "display_data"
    },
    {
     "data": {
      "image/png": "[encoded data removed]",
      "text/plain": [
       "<Figure size 432x288 with 1 Axes>"
      ]
     },
     "metadata": {},
     "output_type": "display_data"
    }
   ],
   "source": [
    "visualize_local_impact(all_prices, local_prices)"
   ]
  },
  {
   "cell_type": "markdown",
   "metadata": {},
   "source": [
    "- Only 'Mitte' is showing higher prices for local hosts. \n",
    "- 'Neukölln' is very balanced while the rest is mostly showing slightly higher prices for the mean of all listings. \n",
    "- 'Spandau' for local hosts is only half of the average price of all listings. \n",
    "- Next, we will check the value counts to see if we got any problems with a very small sample size"
   ]
  },
  {
   "cell_type": "code",
   "execution_count": 22,
   "metadata": {},
   "outputs": [
    {
     "data": {
      "text/plain": [
       "Neukölln         1887\n",
       "Mitte            1492\n",
       "Pankow            174\n",
       "Lichtenberg       101\n",
       "Reinickendorf      99\n",
       "Spandau             9\n",
       "Name: host_neighbourhood, dtype: int64"
      ]
     },
     "execution_count": 22,
     "metadata": {},
     "output_type": "execute_result"
    }
   ],
   "source": [
    "listings[local_host_mask].host_neighbourhood.value_counts()"
   ]
  },
  {
   "cell_type": "markdown",
   "metadata": {},
   "source": [
    "- The sample of Spandau in the local host mask is very small, therefore unlikely meaningful. \n",
    "- The rest of the neighbourhoods are decent to well sized for the analysis\n",
    "\n",
    "We see that many of the neighbourhoods of our original listings are not matched.\n",
    "\n",
    "Next, we will try to improve the number of neighbourhoods matched."
   ]
  },
  {
   "cell_type": "markdown",
   "metadata": {},
   "source": [
    "### Can we improve the matching of Listing-Neighbourhoods and Host-Neighbourhoods?"
   ]
  },
  {
   "cell_type": "code",
   "execution_count": 23,
   "metadata": {
    "scrolled": false
   },
   "outputs": [
    {
     "data": {
      "text/html": [
       "<div>\n",
       "<style scoped>\n",
       "    .dataframe tbody tr th:only-of-type {\n",
       "        vertical-align: middle;\n",
       "    }\n",
       "\n",
       "    .dataframe tbody tr th {\n",
       "        vertical-align: top;\n",
       "    }\n",
       "\n",
       "    .dataframe thead th {\n",
       "        text-align: right;\n",
       "    }\n",
       "</style>\n",
       "<table border=\"1\" class=\"dataframe\">\n",
       "  <thead>\n",
       "    <tr style=\"text-align: right;\">\n",
       "      <th></th>\n",
       "      <th>host_neighbourhood</th>\n",
       "      <th>neighbourhood_group_cleansed</th>\n",
       "    </tr>\n",
       "  </thead>\n",
       "  <tbody>\n",
       "    <tr>\n",
       "      <th>0</th>\n",
       "      <td>Wedding</td>\n",
       "      <td>Mitte</td>\n",
       "    </tr>\n",
       "    <tr>\n",
       "      <th>1</th>\n",
       "      <td>Prenzlauer Berg</td>\n",
       "      <td>Pankow</td>\n",
       "    </tr>\n",
       "    <tr>\n",
       "      <th>2</th>\n",
       "      <td>Schöneberg</td>\n",
       "      <td>Tempelhof - Schöneberg</td>\n",
       "    </tr>\n",
       "    <tr>\n",
       "      <th>3</th>\n",
       "      <td>Prenzlauer Berg</td>\n",
       "      <td>Pankow</td>\n",
       "    </tr>\n",
       "    <tr>\n",
       "      <th>4</th>\n",
       "      <td>Prenzlauer Berg</td>\n",
       "      <td>Pankow</td>\n",
       "    </tr>\n",
       "  </tbody>\n",
       "</table>\n",
       "</div>"
      ],
      "text/plain": [
       "  host_neighbourhood neighbourhood_group_cleansed\n",
       "0            Wedding                        Mitte\n",
       "1    Prenzlauer Berg                       Pankow\n",
       "2         Schöneberg       Tempelhof - Schöneberg\n",
       "3    Prenzlauer Berg                       Pankow\n",
       "4    Prenzlauer Berg                       Pankow"
      ]
     },
     "execution_count": 23,
     "metadata": {},
     "output_type": "execute_result"
    }
   ],
   "source": [
    "listings[['host_neighbourhood', 'neighbourhood_group_cleansed']].head()"
   ]
  },
  {
   "cell_type": "markdown",
   "metadata": {},
   "source": [
    "it seems like some neighbourhoods are just grouped together by there names connected by a hyphen"
   ]
  },
  {
   "cell_type": "code",
   "execution_count": 24,
   "metadata": {},
   "outputs": [],
   "source": [
    "# create a new column with grouped neighbourhood names\n",
    "listings['host_neighbourhood_grouped'] = listings['host_neighbourhood']"
   ]
  },
  {
   "cell_type": "code",
   "execution_count": 25,
   "metadata": {
    "scrolled": true
   },
   "outputs": [],
   "source": [
    "# search the column 'neighbourhood_group_cleansed' with the host_neighbourhood string to find matches\n",
    "matching_group_found = listings.apply(lambda x: x.host_neighbourhood_grouped in x.neighbourhood_group_cleansed, axis=1)"
   ]
  },
  {
   "cell_type": "code",
   "execution_count": 26,
   "metadata": {
    "scrolled": false
   },
   "outputs": [
    {
     "data": {
      "text/html": [
       "<div>\n",
       "<style scoped>\n",
       "    .dataframe tbody tr th:only-of-type {\n",
       "        vertical-align: middle;\n",
       "    }\n",
       "\n",
       "    .dataframe tbody tr th {\n",
       "        vertical-align: top;\n",
       "    }\n",
       "\n",
       "    .dataframe thead th {\n",
       "        text-align: right;\n",
       "    }\n",
       "</style>\n",
       "<table border=\"1\" class=\"dataframe\">\n",
       "  <thead>\n",
       "    <tr style=\"text-align: right;\">\n",
       "      <th></th>\n",
       "      <th>host_neighbourhood_grouped</th>\n",
       "      <th>neighbourhood_group_cleansed</th>\n",
       "    </tr>\n",
       "  </thead>\n",
       "  <tbody>\n",
       "    <tr>\n",
       "      <th>2</th>\n",
       "      <td>Schöneberg</td>\n",
       "      <td>Tempelhof - Schöneberg</td>\n",
       "    </tr>\n",
       "    <tr>\n",
       "      <th>6</th>\n",
       "      <td>Kreuzberg</td>\n",
       "      <td>Friedrichshain-Kreuzberg</td>\n",
       "    </tr>\n",
       "    <tr>\n",
       "      <th>9</th>\n",
       "      <td>Kreuzberg</td>\n",
       "      <td>Friedrichshain-Kreuzberg</td>\n",
       "    </tr>\n",
       "    <tr>\n",
       "      <th>10</th>\n",
       "      <td>Kreuzberg</td>\n",
       "      <td>Friedrichshain-Kreuzberg</td>\n",
       "    </tr>\n",
       "    <tr>\n",
       "      <th>11</th>\n",
       "      <td>Mitte</td>\n",
       "      <td>Mitte</td>\n",
       "    </tr>\n",
       "  </tbody>\n",
       "</table>\n",
       "</div>"
      ],
      "text/plain": [
       "   host_neighbourhood_grouped neighbourhood_group_cleansed\n",
       "2                  Schöneberg       Tempelhof - Schöneberg\n",
       "6                   Kreuzberg     Friedrichshain-Kreuzberg\n",
       "9                   Kreuzberg     Friedrichshain-Kreuzberg\n",
       "10                  Kreuzberg     Friedrichshain-Kreuzberg\n",
       "11                      Mitte                        Mitte"
      ]
     },
     "execution_count": 26,
     "metadata": {},
     "output_type": "execute_result"
    }
   ],
   "source": [
    "# matches\n",
    "listings[matching_group_found][['host_neighbourhood_grouped', 'neighbourhood_group_cleansed']].head(5)"
   ]
  },
  {
   "cell_type": "code",
   "execution_count": 27,
   "metadata": {},
   "outputs": [],
   "source": [
    "# replace the corresponding value in the host_neighbourhood_grouped column with the group name\n",
    "listings.loc[matching_group_found, 'host_neighbourhood_grouped'] = listings.loc[matching_group_found, 'neighbourhood_group_cleansed']"
   ]
  },
  {
   "cell_type": "code",
   "execution_count": 28,
   "metadata": {
    "scrolled": false
   },
   "outputs": [
    {
     "name": "stdout",
     "output_type": "stream",
     "text": [
      "20419\n",
      "8597\n",
      "0.42102943337088006\n"
     ]
    }
   ],
   "source": [
    "total_listings = listings.shape[0]\n",
    "local_host_mask_grouped = listings.host_neighbourhood_grouped == listings.neighbourhood_group_cleansed\n",
    "local_host_listings_grouped = local_host_mask_grouped.sum()\n",
    "print(total_listings)\n",
    "print(local_host_listings_grouped)\n",
    "print(local_host_listings_grouped/total_listings)\n",
    "# reminder (before):\n",
    "# 20432\n",
    "# 3764\n",
    "# 0.18422083007047768"
   ]
  },
  {
   "cell_type": "markdown",
   "metadata": {},
   "source": [
    "we were able to significantly increase the number of matching neighbourhoods with this method"
   ]
  },
  {
   "cell_type": "code",
   "execution_count": 29,
   "metadata": {
    "scrolled": false
   },
   "outputs": [
    {
     "data": {
      "text/plain": [
       "neighbourhood_group_cleansed\n",
       "Mitte                       92.376361\n",
       "Marzahn - Hellersdorf       89.023265\n",
       "Treptow - Köpenick          81.333333\n",
       "Charlottenburg-Wilm.        69.261370\n",
       "Tempelhof - Schöneberg      63.956065\n",
       "Friedrichshain-Kreuzberg    63.935049\n",
       "Steglitz - Zehlendorf       60.879167\n",
       "Pankow                      59.656552\n",
       "Neukölln                    52.212172\n",
       "Lichtenberg                 48.365941\n",
       "Reinickendorf               44.568586\n",
       "Spandau                     34.555556\n",
       "Name: price, dtype: float64"
      ]
     },
     "execution_count": 29,
     "metadata": {},
     "output_type": "execute_result"
    }
   ],
   "source": [
    "# calculate average prices per neighbourhood for local hosts using the new mask\n",
    "local_prices_grouped = listings[local_host_mask_grouped].groupby('neighbourhood_group_cleansed').price.mean().sort_values(ascending=False)\n",
    "local_prices_grouped"
   ]
  },
  {
   "cell_type": "code",
   "execution_count": 30,
   "metadata": {
    "scrolled": false
   },
   "outputs": [
    {
     "data": {
      "text/plain": [
       "<Figure size 432x288 with 0 Axes>"
      ]
     },
     "metadata": {},
     "output_type": "display_data"
    },
    {
     "data": {
      "image/png": "[encoded data removed]",
      "text/plain": [
       "<Figure size 432x288 with 1 Axes>"
      ]
     },
     "metadata": {},
     "output_type": "display_data"
    }
   ],
   "source": [
    "visualize_local_impact(all_prices, local_prices_grouped)"
   ]
  },
  {
   "cell_type": "markdown",
   "metadata": {},
   "source": [
    "#### Only the hyphen connected neighbourhood-names are added to the plot, namely:\n",
    "- Friedrichshain-Kreuzberg and Tempelhof - Schöneberg which show very leveled prices\n",
    "- Steglitz - Zehlendorf while also being pretty close together is slightly in favor of all hosts\n",
    "- Marzahn - Hellersdorf, Treptow - Köpenick have  a pretty low sample size below 50. Nonetheless they are favoring local hosts"
   ]
  },
  {
   "cell_type": "code",
   "execution_count": 31,
   "metadata": {
    "scrolled": true
   },
   "outputs": [
    {
     "data": {
      "text/plain": [
       "Friedrichshain-Kreuzberg    3161\n",
       "Neukölln                    1888\n",
       "Mitte                       1492\n",
       "Tempelhof - Schöneberg       864\n",
       "Charlottenburg-Wilm.         562\n",
       "Pankow                       174\n",
       "Steglitz - Zehlendorf        156\n",
       "Lichtenberg                  101\n",
       "Reinickendorf                 99\n",
       "Marzahn - Hellersdorf         49\n",
       "Treptow - Köpenick            42\n",
       "Spandau                        9\n",
       "Name: host_neighbourhood_grouped, dtype: int64"
      ]
     },
     "execution_count": 31,
     "metadata": {},
     "output_type": "execute_result"
    }
   ],
   "source": [
    "listings[local_host_mask_grouped].host_neighbourhood_grouped.value_counts()"
   ]
  },
  {
   "cell_type": "markdown",
   "metadata": {},
   "source": [
    "#### No clear signs either that local hosts charge higher or lower prices in all neighbourhoods.\n",
    "Questions that come to my mind\n",
    "\n",
    "- do local hosts offer more private rooms than other hosts?\n",
    "- do private rooms tend to be cheaper?"
   ]
  },
  {
   "cell_type": "markdown",
   "metadata": {},
   "source": [
    "### Private rooms of local hosts and their prices"
   ]
  },
  {
   "cell_type": "markdown",
   "metadata": {},
   "source": [
    "#### Local hosts do not clearly offer an above average ratio of private rooms"
   ]
  },
  {
   "cell_type": "code",
   "execution_count": 32,
   "metadata": {
    "scrolled": false
   },
   "outputs": [
    {
     "data": {
      "text/plain": [
       "neighbourhood_group_cleansed\n",
       "Neukölln                    0.538489\n",
       "Reinickendorf               0.523810\n",
       "Lichtenberg                 0.494673\n",
       "Friedrichshain-Kreuzberg    0.470793\n",
       "Steglitz - Zehlendorf       0.442922\n",
       "Tempelhof - Schöneberg      0.431159\n",
       "Charlottenburg-Wilm.        0.403938\n",
       "Mitte                       0.393960\n",
       "Marzahn - Hellersdorf       0.381944\n",
       "Treptow - Köpenick          0.371341\n",
       "Pankow                      0.359837\n",
       "Spandau                     0.345070\n",
       "Name: private_room, dtype: float64"
      ]
     },
     "execution_count": 32,
     "metadata": {},
     "output_type": "execute_result"
    }
   ],
   "source": [
    "total_private_rooms_per_neighbourhood = listings.groupby('neighbourhood_group_cleansed').private_room.mean().sort_values(ascending=False)\n",
    "total_private_rooms_per_neighbourhood"
   ]
  },
  {
   "cell_type": "code",
   "execution_count": 33,
   "metadata": {},
   "outputs": [
    {
     "data": {
      "text/plain": [
       "neighbourhood_group_cleansed\n",
       "Spandau                     0.555556\n",
       "Neukölln                    0.546081\n",
       "Reinickendorf               0.545455\n",
       "Lichtenberg                 0.534653\n",
       "Friedrichshain-Kreuzberg    0.472003\n",
       "Steglitz - Zehlendorf       0.455128\n",
       "Pankow                      0.454023\n",
       "Tempelhof - Schöneberg      0.450231\n",
       "Charlottenburg-Wilm.        0.423488\n",
       "Marzahn - Hellersdorf       0.387755\n",
       "Treptow - Köpenick          0.309524\n",
       "Mitte                       0.262064\n",
       "Name: private_room, dtype: float64"
      ]
     },
     "execution_count": 33,
     "metadata": {},
     "output_type": "execute_result"
    }
   ],
   "source": [
    "local_private_rooms_per_neighbourhood = listings[local_host_mask_grouped].groupby('neighbourhood_group_cleansed').private_room.mean().sort_values(ascending=False)\n",
    "local_private_rooms_per_neighbourhood"
   ]
  },
  {
   "cell_type": "code",
   "execution_count": 34,
   "metadata": {
    "scrolled": false
   },
   "outputs": [
    {
     "data": {
      "text/plain": [
       "<Figure size 432x288 with 0 Axes>"
      ]
     },
     "metadata": {},
     "output_type": "display_data"
    },
    {
     "data": {
      "image/png": "[encoded data removed]",
      "text/plain": [
       "<Figure size 432x288 with 1 Axes>"
      ]
     },
     "metadata": {},
     "output_type": "display_data"
    }
   ],
   "source": [
    "visualize_local_impact(total_private_rooms_per_neighbourhood, local_private_rooms_per_neighbourhood)"
   ]
  },
  {
   "cell_type": "markdown",
   "metadata": {},
   "source": [
    "As before, the questions can't be clearly answered for all neighbourhoods. \n",
    "\n",
    "It seems that local hosts are slightly offerering an above average number of private rooms, though the difference is not really significant in most neighbourhoods.\n",
    "\n",
    "Interestringly, the plots are pretty much reversed of the picture before. E.g. Mitte has an below average count of of private_rooms for local hosts, while they had the highest prices for local hosts at the same time. While Spandau was the complete opposite. Other Neighbourhoods have the same behaviour.\n",
    "\n",
    "This increases the Assumption that private rooms tend to be cheaper."
   ]
  },
  {
   "cell_type": "markdown",
   "metadata": {},
   "source": [
    "#### Private Rooms are cheaper than Entire Homes/Apts"
   ]
  },
  {
   "cell_type": "code",
   "execution_count": 35,
   "metadata": {
    "scrolled": false
   },
   "outputs": [
    {
     "data": {
      "text/plain": [
       "Entire home/apt    11036\n",
       "Private room        8868\n",
       "Shared room          279\n",
       "Hotel room           236\n",
       "Name: room_type, dtype: int64"
      ]
     },
     "execution_count": 35,
     "metadata": {},
     "output_type": "execute_result"
    }
   ],
   "source": [
    "listings.room_type.value_counts()"
   ]
  },
  {
   "cell_type": "markdown",
   "metadata": {},
   "source": [
    "Since the vast majority of listings is either categorized as 'Private room' or 'Entire home/apt' we will only compare these two in the following"
   ]
  },
  {
   "cell_type": "code",
   "execution_count": 36,
   "metadata": {},
   "outputs": [
    {
     "data": {
      "text/html": [
       "<div>\n",
       "<style scoped>\n",
       "    .dataframe tbody tr th:only-of-type {\n",
       "        vertical-align: middle;\n",
       "    }\n",
       "\n",
       "    .dataframe tbody tr th {\n",
       "        vertical-align: top;\n",
       "    }\n",
       "\n",
       "    .dataframe thead th {\n",
       "        text-align: right;\n",
       "    }\n",
       "</style>\n",
       "<table border=\"1\" class=\"dataframe\">\n",
       "  <thead>\n",
       "    <tr style=\"text-align: right;\">\n",
       "      <th></th>\n",
       "      <th></th>\n",
       "      <th>price</th>\n",
       "    </tr>\n",
       "    <tr>\n",
       "      <th>neighbourhood_group_cleansed</th>\n",
       "      <th>room_type</th>\n",
       "      <th></th>\n",
       "    </tr>\n",
       "  </thead>\n",
       "  <tbody>\n",
       "    <tr>\n",
       "      <th rowspan=\"2\" valign=\"top\">Charlottenburg-Wilm.</th>\n",
       "      <th>Entire home/apt</th>\n",
       "      <td>86.950107</td>\n",
       "    </tr>\n",
       "    <tr>\n",
       "      <th>Private room</th>\n",
       "      <td>48.681374</td>\n",
       "    </tr>\n",
       "    <tr>\n",
       "      <th rowspan=\"2\" valign=\"top\">Friedrichshain-Kreuzberg</th>\n",
       "      <th>Entire home/apt</th>\n",
       "      <td>82.399949</td>\n",
       "    </tr>\n",
       "    <tr>\n",
       "      <th>Private room</th>\n",
       "      <td>42.217407</td>\n",
       "    </tr>\n",
       "    <tr>\n",
       "      <th rowspan=\"2\" valign=\"top\">Lichtenberg</th>\n",
       "      <th>Entire home/apt</th>\n",
       "      <td>70.959500</td>\n",
       "    </tr>\n",
       "    <tr>\n",
       "      <th>Private room</th>\n",
       "      <td>36.760462</td>\n",
       "    </tr>\n",
       "    <tr>\n",
       "      <th rowspan=\"2\" valign=\"top\">Marzahn - Hellersdorf</th>\n",
       "      <th>Entire home/apt</th>\n",
       "      <td>90.510115</td>\n",
       "    </tr>\n",
       "    <tr>\n",
       "      <th>Private room</th>\n",
       "      <td>45.406909</td>\n",
       "    </tr>\n",
       "    <tr>\n",
       "      <th rowspan=\"2\" valign=\"top\">Mitte</th>\n",
       "      <th>Entire home/apt</th>\n",
       "      <td>95.656235</td>\n",
       "    </tr>\n",
       "    <tr>\n",
       "      <th>Private room</th>\n",
       "      <td>45.007551</td>\n",
       "    </tr>\n",
       "    <tr>\n",
       "      <th rowspan=\"2\" valign=\"top\">Neukölln</th>\n",
       "      <th>Entire home/apt</th>\n",
       "      <td>70.764298</td>\n",
       "    </tr>\n",
       "    <tr>\n",
       "      <th>Private room</th>\n",
       "      <td>36.355961</td>\n",
       "    </tr>\n",
       "    <tr>\n",
       "      <th rowspan=\"2\" valign=\"top\">Pankow</th>\n",
       "      <th>Entire home/apt</th>\n",
       "      <td>85.934387</td>\n",
       "    </tr>\n",
       "    <tr>\n",
       "      <th>Private room</th>\n",
       "      <td>44.990908</td>\n",
       "    </tr>\n",
       "    <tr>\n",
       "      <th rowspan=\"2\" valign=\"top\">Reinickendorf</th>\n",
       "      <th>Entire home/apt</th>\n",
       "      <td>64.026788</td>\n",
       "    </tr>\n",
       "    <tr>\n",
       "      <th>Private room</th>\n",
       "      <td>35.754156</td>\n",
       "    </tr>\n",
       "    <tr>\n",
       "      <th rowspan=\"2\" valign=\"top\">Spandau</th>\n",
       "      <th>Entire home/apt</th>\n",
       "      <td>83.794167</td>\n",
       "    </tr>\n",
       "    <tr>\n",
       "      <th>Private room</th>\n",
       "      <td>38.836735</td>\n",
       "    </tr>\n",
       "    <tr>\n",
       "      <th rowspan=\"2\" valign=\"top\">Steglitz - Zehlendorf</th>\n",
       "      <th>Entire home/apt</th>\n",
       "      <td>82.045617</td>\n",
       "    </tr>\n",
       "    <tr>\n",
       "      <th>Private room</th>\n",
       "      <td>43.302680</td>\n",
       "    </tr>\n",
       "    <tr>\n",
       "      <th rowspan=\"2\" valign=\"top\">Tempelhof - Schöneberg</th>\n",
       "      <th>Entire home/apt</th>\n",
       "      <td>81.013085</td>\n",
       "    </tr>\n",
       "    <tr>\n",
       "      <th>Private room</th>\n",
       "      <td>40.238908</td>\n",
       "    </tr>\n",
       "    <tr>\n",
       "      <th rowspan=\"2\" valign=\"top\">Treptow - Köpenick</th>\n",
       "      <th>Entire home/apt</th>\n",
       "      <td>85.765013</td>\n",
       "    </tr>\n",
       "    <tr>\n",
       "      <th>Private room</th>\n",
       "      <td>41.474813</td>\n",
       "    </tr>\n",
       "  </tbody>\n",
       "</table>\n",
       "</div>"
      ],
      "text/plain": [
       "                                                  price\n",
       "neighbourhood_group_cleansed room_type                 \n",
       "Charlottenburg-Wilm.         Entire home/apt  86.950107\n",
       "                             Private room     48.681374\n",
       "Friedrichshain-Kreuzberg     Entire home/apt  82.399949\n",
       "                             Private room     42.217407\n",
       "Lichtenberg                  Entire home/apt  70.959500\n",
       "                             Private room     36.760462\n",
       "Marzahn - Hellersdorf        Entire home/apt  90.510115\n",
       "                             Private room     45.406909\n",
       "Mitte                        Entire home/apt  95.656235\n",
       "                             Private room     45.007551\n",
       "Neukölln                     Entire home/apt  70.764298\n",
       "                             Private room     36.355961\n",
       "Pankow                       Entire home/apt  85.934387\n",
       "                             Private room     44.990908\n",
       "Reinickendorf                Entire home/apt  64.026788\n",
       "                             Private room     35.754156\n",
       "Spandau                      Entire home/apt  83.794167\n",
       "                             Private room     38.836735\n",
       "Steglitz - Zehlendorf        Entire home/apt  82.045617\n",
       "                             Private room     43.302680\n",
       "Tempelhof - Schöneberg       Entire home/apt  81.013085\n",
       "                             Private room     40.238908\n",
       "Treptow - Köpenick           Entire home/apt  85.765013\n",
       "                             Private room     41.474813"
      ]
     },
     "execution_count": 36,
     "metadata": {},
     "output_type": "execute_result"
    }
   ],
   "source": [
    "df_room_type_per_neighbourhood = pd.DataFrame(listings[(listings.private_room == 1)|(listings.entire_home == 1)].groupby(['neighbourhood_group_cleansed', 'room_type']).price.mean())\n",
    "df_room_type_per_neighbourhood"
   ]
  },
  {
   "cell_type": "code",
   "execution_count": 37,
   "metadata": {},
   "outputs": [
    {
     "data": {
      "image/png": "[encoded data removed]",
      "text/plain": [
       "<Figure size 432x288 with 1 Axes>"
      ]
     },
     "metadata": {},
     "output_type": "display_data"
    }
   ],
   "source": [
    "df_room_type_per_neighbourhood.unstack().plot(kind='bar', stacked=True);"
   ]
  },
  {
   "cell_type": "markdown",
   "metadata": {},
   "source": [
    "It is not suprising that indeed private rooms tend to be cheaper."
   ]
  }
 ],
 "metadata": {
  "kernelspec": {
   "display_name": "Python 3",
   "language": "python",
   "name": "python3"
  },
  "language_info": {
   "codemirror_mode": {
    "name": "ipython",
    "version": 3
   },
   "file_extension": ".py",
   "mimetype": "text/x-python",
   "name": "python",
   "nbconvert_exporter": "python",
   "pygments_lexer": "ipython3",
   "version": "3.6.5"
  }
 },
 "nbformat": 4,
 "nbformat_minor": 2
}
